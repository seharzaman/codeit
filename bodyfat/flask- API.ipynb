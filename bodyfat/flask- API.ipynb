{
 "cells": [
  {
   "cell_type": "code",
   "execution_count": null,
   "id": "3188b60a",
   "metadata": {},
   "outputs": [],
   "source": [
    "from flask import Flask, render_template, request\n",
    "import pandas as pd\n",
    "import numpy as np\n",
    "import matplotlib.pyplot as plt\n",
    "import seaborn as sns\n",
    "from sklearn.ensemble import ExtraTreesRegressor\n",
    "from sklearn.model_selection import train_test_split\n",
    "from sklearn.linear_model import LinearRegression\n",
    "from sklearn.tree import DecisionTreeRegressor\n",
    "from sklearn.ensemble import RandomForestRegressor\n",
    "from sklearn import metrics\n",
    "\n",
    "app = Flask(__name__)\n",
    "\n",
    "@app.route('/')\n",
    "def home():\n",
    "    return render_template('index.html')\n",
    "\n",
    "@app.route('/predict', methods=['POST'])\n",
    "def predict():\n",
    "    # Retrieve the form data\n",
    "    density = float(request.form['density'])\n",
    "    age = float(request.form['age'])\n",
    "    weight = float(request.form['weight'])\n",
    "    height = float(request.form['height'])\n",
    "    # ... repeat for the rest of the input fields\n",
    "\n",
    "    # Perform the prediction and classification logic here\n",
    "\n",
    "    # Render the results template with the predicted values and classification\n",
    "\n",
    "@app.route('/progress', methods=['POST'])\n",
    "def progress():\n",
    "    # Retrieve the progress data from the form fields\n",
    "    # ... repeat for the rest of the input fields\n",
    "\n",
    "    # Perform the progress evaluation logic here\n",
    "\n",
    "    # Render the progress template with the evaluation result and plot\n",
    "\n",
    "if __name__ == '__main__':\n",
    "    app.run(debug=True)\n"
   ]
  }
 ],
 "metadata": {
  "kernelspec": {
   "display_name": "Python 3 (ipykernel)",
   "language": "python",
   "name": "python3"
  },
  "language_info": {
   "codemirror_mode": {
    "name": "ipython",
    "version": 3
   },
   "file_extension": ".py",
   "mimetype": "text/x-python",
   "name": "python",
   "nbconvert_exporter": "python",
   "pygments_lexer": "ipython3",
   "version": "3.9.13"
  }
 },
 "nbformat": 4,
 "nbformat_minor": 5
}
